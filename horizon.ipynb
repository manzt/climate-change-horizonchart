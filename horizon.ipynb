{
 "cells": [
  {
   "cell_type": "code",
   "execution_count": 4,
   "metadata": {},
   "outputs": [],
   "source": [
    "import altair as alt\n",
    "import pandas as pd"
   ]
  },
  {
   "cell_type": "code",
   "execution_count": 5,
   "metadata": {},
   "outputs": [],
   "source": [
    "temp = pd.read_csv('temps.tsv', sep='\\t', usecols=range(0,2), names=['year', 'val'])\n",
    "# convert years into datetime\n",
    "temp['year'] = pd.to_datetime(temp['year'], format='%Y')\n",
    "# create column of inverted values for the inverted overlay\n",
    "temp['negval'] = temp['val'].apply(lambda x: x * -1)"
   ]
  },
  {
   "cell_type": "code",
   "execution_count": 6,
   "metadata": {},
   "outputs": [],
   "source": [
    "width, height = 800, 50"
   ]
  },
  {
   "cell_type": "code",
   "execution_count": 7,
   "metadata": {},
   "outputs": [],
   "source": [
    "# define layered areas for positive values\n",
    "area1 = alt.Chart().mark_area(\n",
    "    clip=True,\n",
    "    interpolate='monotone'\n",
    ").encode(\n",
    "    alt.X('year(year):T', title=None),\n",
    "    alt.Y('val:Q', scale=alt.Scale(domain=[0, 0.2]), title=None),\n",
    "    color=alt.value('#FFFFAF'),\n",
    "    opacity=alt.value(0.35)\n",
    ").properties(\n",
    "    width=width,\n",
    "    height=height\n",
    ")\n",
    "area2 = area1.encode(\n",
    "    alt.Y('val2:Q', scale=alt.Scale(domain=[0, 0.2]), title=None),\n",
    "    color=alt.value('#FFE37E')\n",
    ").transform_calculate(\n",
    "    \"val2\", alt.datum.val - 0.2\n",
    ")\n",
    "\n",
    "area3 = area1.encode(\n",
    "    alt.Y('val3:Q', scale=alt.Scale(domain=[0, 0.2]), title=None),\n",
    "    color=alt.value('#FFB14E')\n",
    ").transform_calculate(\n",
    "    \"val3\", alt.datum.val - 0.4\n",
    ")\n",
    "\n",
    "area4 = area1.encode(\n",
    "    alt.Y('val4:Q', scale=alt.Scale(domain=[0, 0.2]), title=None),\n",
    "    color=alt.value('#C8811C')\n",
    ").transform_calculate(\n",
    "    \"val4\", alt.datum.val - 0.6\n",
    ")\n",
    "\n",
    "area5 = area1.encode(\n",
    "    alt.Y('val5:Q', scale=alt.Scale(domain=[0, 0.2]), title=None),\n",
    "    color=alt.value('#925500')\n",
    ").transform_calculate(\n",
    "    \"val5\", alt.datum.val - 0.8\n",
    ")\n",
    "\n",
    "# layer areas for each chart\n",
    "posvals = []\n",
    "for num in range(6):\n",
    "    posvals.append(alt.layer(area1, area2, area3, area4, area5, data=temp[num*23:(num+1)*23]))"
   ]
  },
  {
   "cell_type": "code",
   "execution_count": 8,
   "metadata": {},
   "outputs": [],
   "source": [
    "# define layered areas for negative (inverted) values\n",
    "area1 = alt.Chart().mark_area(\n",
    "    clip=True,\n",
    "    interpolate='monotone'\n",
    ").encode(\n",
    "    alt.X('year(year):T', title= None),\n",
    "    alt.Y('negval:Q', scale=alt.Scale(domain=[0, 0.2]), title=None),\n",
    "    color=alt.value('#DD9EDA'),\n",
    "    opacity=alt.value(0.35)\n",
    ").properties(\n",
    "    width=width,\n",
    "    height=height\n",
    ")\n",
    "area2 = area1.encode(\n",
    "    alt.Y('val2:Q', scale=alt.Scale(domain=[0, 0.2]), title=None),\n",
    "    color=alt.value('#BD6ED5')\n",
    ").transform_calculate(\n",
    "    \"val2\", alt.datum.negval - 0.2\n",
    ")\n",
    "\n",
    "area3 = area1.encode(\n",
    "    alt.Y('val3:Q', scale=alt.Scale(domain=[0, 0.2]), title=None),\n",
    "    color=alt.value('#8C3EAE')\n",
    ").transform_calculate(\n",
    "    \"val3\", alt.datum.negval - 0.4\n",
    ")\n",
    "\n",
    "# define chart rows and layer area definitions\n",
    "negvals = []\n",
    "for num in range(6):\n",
    "    negvals.append(alt.layer(area1, area2, area3, data=temp[num*23:(num+1)*23]))"
   ]
  },
  {
   "cell_type": "code",
   "execution_count": 9,
   "metadata": {},
   "outputs": [],
   "source": [
    "# layer positive chart rows \n",
    "final = [alt.layer(pos, neg) for pos, neg in zip (posvals, negvals)]"
   ]
  },
  {
   "cell_type": "code",
   "execution_count": 10,
   "metadata": {},
   "outputs": [
    {
     "data": {
      "application/vnd.vegalite.v2+json": {
       "$schema": "https://vega.github.io/schema/vega-lite/v2.6.0.json",
       "config": {
        "axisY": {
         "labels": false
        },
        "view": {
         "height": 300,
         "width": 400
        }
       },
       "datasets": {
        "data-65d9b02bff3c57d00973bf58032f54be": [
         {
          "negval": -0.01,
          "val": 0.01,
          "year": "1972-01-01T00:00:00"
         },
         {
          "negval": -0.16,
          "val": 0.16,
          "year": "1973-01-01T00:00:00"
         },
         {
          "negval": 0.08,
          "val": -0.08,
          "year": "1974-01-01T00:00:00"
         },
         {
          "negval": 0.02,
          "val": -0.02,
          "year": "1975-01-01T00:00:00"
         },
         {
          "negval": 0.11,
          "val": -0.11,
          "year": "1976-01-01T00:00:00"
         },
         {
          "negval": -0.17,
          "val": 0.17,
          "year": "1977-01-01T00:00:00"
         },
         {
          "negval": -0.06,
          "val": 0.06,
          "year": "1978-01-01T00:00:00"
         },
         {
          "negval": -0.16,
          "val": 0.16,
          "year": "1979-01-01T00:00:00"
         },
         {
          "negval": -0.27,
          "val": 0.27,
          "year": "1980-01-01T00:00:00"
         },
         {
          "negval": -0.33,
          "val": 0.33,
          "year": "1981-01-01T00:00:00"
         },
         {
          "negval": -0.13,
          "val": 0.13,
          "year": "1982-01-01T00:00:00"
         },
         {
          "negval": -0.31,
          "val": 0.31,
          "year": "1983-01-01T00:00:00"
         },
         {
          "negval": -0.16,
          "val": 0.16,
          "year": "1984-01-01T00:00:00"
         },
         {
          "negval": -0.12,
          "val": 0.12,
          "year": "1985-01-01T00:00:00"
         },
         {
          "negval": -0.18,
          "val": 0.18,
          "year": "1986-01-01T00:00:00"
         },
         {
          "negval": -0.33,
          "val": 0.33,
          "year": "1987-01-01T00:00:00"
         },
         {
          "negval": -0.41,
          "val": 0.41,
          "year": "1988-01-01T00:00:00"
         },
         {
          "negval": -0.28,
          "val": 0.28,
          "year": "1989-01-01T00:00:00"
         },
         {
          "negval": -0.44,
          "val": 0.44,
          "year": "1990-01-01T00:00:00"
         },
         {
          "negval": -0.41,
          "val": 0.41,
          "year": "1991-01-01T00:00:00"
         },
         {
          "negval": -0.22,
          "val": 0.22,
          "year": "1992-01-01T00:00:00"
         },
         {
          "negval": -0.24,
          "val": 0.24,
          "year": "1993-01-01T00:00:00"
         },
         {
          "negval": -0.31,
          "val": 0.31,
          "year": "1994-01-01T00:00:00"
         }
        ],
        "data-7181734993c9228d8b37dcfa7e60c070": [
         {
          "negval": -0.44,
          "val": 0.44,
          "year": "1995-01-01T00:00:00"
         },
         {
          "negval": -0.33,
          "val": 0.33,
          "year": "1996-01-01T00:00:00"
         },
         {
          "negval": -0.47,
          "val": 0.47,
          "year": "1997-01-01T00:00:00"
         },
         {
          "negval": -0.62,
          "val": 0.62,
          "year": "1998-01-01T00:00:00"
         },
         {
          "negval": -0.4,
          "val": 0.4,
          "year": "1999-01-01T00:00:00"
         },
         {
          "negval": -0.4,
          "val": 0.4,
          "year": "2000-01-01T00:00:00"
         },
         {
          "negval": -0.54,
          "val": 0.54,
          "year": "2001-01-01T00:00:00"
         },
         {
          "negval": -0.62,
          "val": 0.62,
          "year": "2002-01-01T00:00:00"
         },
         {
          "negval": -0.61,
          "val": 0.61,
          "year": "2003-01-01T00:00:00"
         },
         {
          "negval": -0.53,
          "val": 0.53,
          "year": "2004-01-01T00:00:00"
         },
         {
          "negval": -0.67,
          "val": 0.67,
          "year": "2005-01-01T00:00:00"
         },
         {
          "negval": -0.62,
          "val": 0.62,
          "year": "2006-01-01T00:00:00"
         },
         {
          "negval": -0.64,
          "val": 0.64,
          "year": "2007-01-01T00:00:00"
         },
         {
          "negval": -0.52,
          "val": 0.52,
          "year": "2008-01-01T00:00:00"
         },
         {
          "negval": -0.63,
          "val": 0.63,
          "year": "2009-01-01T00:00:00"
         },
         {
          "negval": -0.7,
          "val": 0.7,
          "year": "2010-01-01T00:00:00"
         },
         {
          "negval": -0.57,
          "val": 0.57,
          "year": "2011-01-01T00:00:00"
         },
         {
          "negval": -0.61,
          "val": 0.61,
          "year": "2012-01-01T00:00:00"
         },
         {
          "negval": -0.64,
          "val": 0.64,
          "year": "2013-01-01T00:00:00"
         },
         {
          "negval": -0.73,
          "val": 0.73,
          "year": "2014-01-01T00:00:00"
         },
         {
          "negval": -0.86,
          "val": 0.86,
          "year": "2015-01-01T00:00:00"
         },
         {
          "negval": -0.99,
          "val": 0.99,
          "year": "2016-01-01T00:00:00"
         },
         {
          "negval": -0.9,
          "val": 0.9,
          "year": "2017-01-01T00:00:00"
         }
        ],
        "data-925e9008580c3ef8c4ddba22195c8b45": [
         {
          "negval": 0.09,
          "val": -0.09,
          "year": "1926-01-01T00:00:00"
         },
         {
          "negval": 0.2,
          "val": -0.2,
          "year": "1927-01-01T00:00:00"
         },
         {
          "negval": 0.19,
          "val": -0.19,
          "year": "1928-01-01T00:00:00"
         },
         {
          "negval": 0.35,
          "val": -0.35,
          "year": "1929-01-01T00:00:00"
         },
         {
          "negval": 0.15,
          "val": -0.15,
          "year": "1930-01-01T00:00:00"
         },
         {
          "negval": 0.1,
          "val": -0.1,
          "year": "1931-01-01T00:00:00"
         },
         {
          "negval": 0.17,
          "val": -0.17,
          "year": "1932-01-01T00:00:00"
         },
         {
          "negval": 0.3,
          "val": -0.3,
          "year": "1933-01-01T00:00:00"
         },
         {
          "negval": 0.14,
          "val": -0.14,
          "year": "1934-01-01T00:00:00"
         },
         {
          "negval": 0.21,
          "val": -0.21,
          "year": "1935-01-01T00:00:00"
         },
         {
          "negval": 0.16,
          "val": -0.16,
          "year": "1936-01-01T00:00:00"
         },
         {
          "negval": 0.04,
          "val": -0.04,
          "year": "1937-01-01T00:00:00"
         },
         {
          "negval": 0.03,
          "val": -0.03,
          "year": "1938-01-01T00:00:00"
         },
         {
          "negval": 0.03,
          "val": -0.03,
          "year": "1939-01-01T00:00:00"
         },
         {
          "negval": -0.11,
          "val": 0.11,
          "year": "1940-01-01T00:00:00"
         },
         {
          "negval": -0.18,
          "val": 0.18,
          "year": "1941-01-01T00:00:00"
         },
         {
          "negval": -0.05,
          "val": 0.05,
          "year": "1942-01-01T00:00:00"
         },
         {
          "negval": -0.07,
          "val": 0.07,
          "year": "1943-01-01T00:00:00"
         },
         {
          "negval": -0.21,
          "val": 0.21,
          "year": "1944-01-01T00:00:00"
         },
         {
          "negval": -0.09,
          "val": 0.09,
          "year": "1945-01-01T00:00:00"
         },
         {
          "negval": 0.07,
          "val": -0.07,
          "year": "1946-01-01T00:00:00"
         },
         {
          "negval": 0.04,
          "val": -0.04,
          "year": "1947-01-01T00:00:00"
         },
         {
          "negval": 0.11,
          "val": -0.11,
          "year": "1948-01-01T00:00:00"
         }
        ],
        "data-ac8b6d614097979a86e07648c057407a": [
         {
          "negval": 0.39,
          "val": -0.39,
          "year": "1903-01-01T00:00:00"
         },
         {
          "negval": 0.49,
          "val": -0.49,
          "year": "1904-01-01T00:00:00"
         },
         {
          "negval": 0.28,
          "val": -0.28,
          "year": "1905-01-01T00:00:00"
         },
         {
          "negval": 0.23,
          "val": -0.23,
          "year": "1906-01-01T00:00:00"
         },
         {
          "negval": 0.4,
          "val": -0.4,
          "year": "1907-01-01T00:00:00"
         },
         {
          "negval": 0.44,
          "val": -0.44,
          "year": "1908-01-01T00:00:00"
         },
         {
          "negval": 0.48,
          "val": -0.48,
          "year": "1909-01-01T00:00:00"
         },
         {
          "negval": 0.44,
          "val": -0.44,
          "year": "1910-01-01T00:00:00"
         },
         {
          "negval": 0.43,
          "val": -0.43,
          "year": "1911-01-01T00:00:00"
         },
         {
          "negval": 0.36,
          "val": -0.36,
          "year": "1912-01-01T00:00:00"
         },
         {
          "negval": 0.35,
          "val": -0.35,
          "year": "1913-01-01T00:00:00"
         },
         {
          "negval": 0.16,
          "val": -0.16,
          "year": "1914-01-01T00:00:00"
         },
         {
          "negval": 0.12,
          "val": -0.12,
          "year": "1915-01-01T00:00:00"
         },
         {
          "negval": 0.33,
          "val": -0.33,
          "year": "1916-01-01T00:00:00"
         },
         {
          "negval": 0.43,
          "val": -0.43,
          "year": "1917-01-01T00:00:00"
         },
         {
          "negval": 0.28,
          "val": -0.28,
          "year": "1918-01-01T00:00:00"
         },
         {
          "negval": 0.27,
          "val": -0.27,
          "year": "1919-01-01T00:00:00"
         },
         {
          "negval": 0.25,
          "val": -0.25,
          "year": "1920-01-01T00:00:00"
         },
         {
          "negval": 0.17,
          "val": -0.17,
          "year": "1921-01-01T00:00:00"
         },
         {
          "negval": 0.27,
          "val": -0.27,
          "year": "1922-01-01T00:00:00"
         },
         {
          "negval": 0.24,
          "val": -0.24,
          "year": "1923-01-01T00:00:00"
         },
         {
          "negval": 0.25,
          "val": -0.25,
          "year": "1924-01-01T00:00:00"
         },
         {
          "negval": 0.21,
          "val": -0.21,
          "year": "1925-01-01T00:00:00"
         }
        ],
        "data-d863e499529424caca2b59f553a13147": [
         {
          "negval": 0.19,
          "val": -0.19,
          "year": "1880-01-01T00:00:00"
         },
         {
          "negval": 0.1,
          "val": -0.1,
          "year": "1881-01-01T00:00:00"
         },
         {
          "negval": 0.1,
          "val": -0.1,
          "year": "1882-01-01T00:00:00"
         },
         {
          "negval": 0.19,
          "val": -0.19,
          "year": "1883-01-01T00:00:00"
         },
         {
          "negval": 0.28,
          "val": -0.28,
          "year": "1884-01-01T00:00:00"
         },
         {
          "negval": 0.31,
          "val": -0.31,
          "year": "1885-01-01T00:00:00"
         },
         {
          "negval": 0.32,
          "val": -0.32,
          "year": "1886-01-01T00:00:00"
         },
         {
          "negval": 0.35,
          "val": -0.35,
          "year": "1887-01-01T00:00:00"
         },
         {
          "negval": 0.18,
          "val": -0.18,
          "year": "1888-01-01T00:00:00"
         },
         {
          "negval": 0.11,
          "val": -0.11,
          "year": "1889-01-01T00:00:00"
         },
         {
          "negval": 0.37,
          "val": -0.37,
          "year": "1890-01-01T00:00:00"
         },
         {
          "negval": 0.24,
          "val": -0.24,
          "year": "1891-01-01T00:00:00"
         },
         {
          "negval": 0.27,
          "val": -0.27,
          "year": "1892-01-01T00:00:00"
         },
         {
          "negval": 0.32,
          "val": -0.32,
          "year": "1893-01-01T00:00:00"
         },
         {
          "negval": 0.32,
          "val": -0.32,
          "year": "1894-01-01T00:00:00"
         },
         {
          "negval": 0.22,
          "val": -0.22,
          "year": "1895-01-01T00:00:00"
         },
         {
          "negval": 0.11,
          "val": -0.11,
          "year": "1896-01-01T00:00:00"
         },
         {
          "negval": 0.12,
          "val": -0.12,
          "year": "1897-01-01T00:00:00"
         },
         {
          "negval": 0.28,
          "val": -0.28,
          "year": "1898-01-01T00:00:00"
         },
         {
          "negval": 0.18,
          "val": -0.18,
          "year": "1899-01-01T00:00:00"
         },
         {
          "negval": 0.09,
          "val": -0.09,
          "year": "1900-01-01T00:00:00"
         },
         {
          "negval": 0.15,
          "val": -0.15,
          "year": "1901-01-01T00:00:00"
         },
         {
          "negval": 0.3,
          "val": -0.3,
          "year": "1902-01-01T00:00:00"
         }
        ],
        "data-f793ec50de97fc364f5825402a42ed60": [
         {
          "negval": 0.11,
          "val": -0.11,
          "year": "1949-01-01T00:00:00"
         },
         {
          "negval": 0.19,
          "val": -0.19,
          "year": "1950-01-01T00:00:00"
         },
         {
          "negval": 0.07,
          "val": -0.07,
          "year": "1951-01-01T00:00:00"
         },
         {
          "negval": -0.01,
          "val": 0.01,
          "year": "1952-01-01T00:00:00"
         },
         {
          "negval": -0.07,
          "val": 0.07,
          "year": "1953-01-01T00:00:00"
         },
         {
          "negval": 0.15,
          "val": -0.15,
          "year": "1954-01-01T00:00:00"
         },
         {
          "negval": 0.14,
          "val": -0.14,
          "year": "1955-01-01T00:00:00"
         },
         {
          "negval": 0.2,
          "val": -0.2,
          "year": "1956-01-01T00:00:00"
         },
         {
          "negval": -0.04,
          "val": 0.04,
          "year": "1957-01-01T00:00:00"
         },
         {
          "negval": -0.07,
          "val": 0.07,
          "year": "1958-01-01T00:00:00"
         },
         {
          "negval": -0.03,
          "val": 0.03,
          "year": "1959-01-01T00:00:00"
         },
         {
          "negval": 0.02,
          "val": -0.02,
          "year": "1960-01-01T00:00:00"
         },
         {
          "negval": -0.06,
          "val": 0.06,
          "year": "1961-01-01T00:00:00"
         },
         {
          "negval": -0.04,
          "val": 0.04,
          "year": "1962-01-01T00:00:00"
         },
         {
          "negval": -0.07,
          "val": 0.07,
          "year": "1963-01-01T00:00:00"
         },
         {
          "negval": 0.2,
          "val": -0.2,
          "year": "1964-01-01T00:00:00"
         },
         {
          "negval": 0.1,
          "val": -0.1,
          "year": "1965-01-01T00:00:00"
         },
         {
          "negval": 0.05,
          "val": -0.05,
          "year": "1966-01-01T00:00:00"
         },
         {
          "negval": 0.02,
          "val": -0.02,
          "year": "1967-01-01T00:00:00"
         },
         {
          "negval": 0.07,
          "val": -0.07,
          "year": "1968-01-01T00:00:00"
         },
         {
          "negval": -0.07,
          "val": 0.07,
          "year": "1969-01-01T00:00:00"
         },
         {
          "negval": -0.03,
          "val": 0.03,
          "year": "1970-01-01T00:00:00"
         },
         {
          "negval": 0.09,
          "val": -0.09,
          "year": "1971-01-01T00:00:00"
         }
        ]
       },
       "vconcat": [
        {
         "layer": [
          {
           "data": {
            "name": "data-d863e499529424caca2b59f553a13147"
           },
           "layer": [
            {
             "encoding": {
              "color": {
               "value": "#FFFFAF"
              },
              "opacity": {
               "value": 0.35
              },
              "x": {
               "field": "year",
               "timeUnit": "year",
               "title": null,
               "type": "temporal"
              },
              "y": {
               "field": "val",
               "scale": {
                "domain": [
                 0,
                 0.2
                ]
               },
               "title": null,
               "type": "quantitative"
              }
             },
             "height": 50,
             "mark": {
              "clip": true,
              "interpolate": "monotone",
              "type": "area"
             },
             "width": 800
            },
            {
             "encoding": {
              "color": {
               "value": "#FFE37E"
              },
              "opacity": {
               "value": 0.35
              },
              "x": {
               "field": "year",
               "timeUnit": "year",
               "title": null,
               "type": "temporal"
              },
              "y": {
               "field": "val2",
               "scale": {
                "domain": [
                 0,
                 0.2
                ]
               },
               "title": null,
               "type": "quantitative"
              }
             },
             "height": 50,
             "mark": {
              "clip": true,
              "interpolate": "monotone",
              "type": "area"
             },
             "transform": [
              {
               "as": "val2",
               "calculate": "(datum.val - 0.2)"
              }
             ],
             "width": 800
            },
            {
             "encoding": {
              "color": {
               "value": "#FFB14E"
              },
              "opacity": {
               "value": 0.35
              },
              "x": {
               "field": "year",
               "timeUnit": "year",
               "title": null,
               "type": "temporal"
              },
              "y": {
               "field": "val3",
               "scale": {
                "domain": [
                 0,
                 0.2
                ]
               },
               "title": null,
               "type": "quantitative"
              }
             },
             "height": 50,
             "mark": {
              "clip": true,
              "interpolate": "monotone",
              "type": "area"
             },
             "transform": [
              {
               "as": "val3",
               "calculate": "(datum.val - 0.4)"
              }
             ],
             "width": 800
            },
            {
             "encoding": {
              "color": {
               "value": "#C8811C"
              },
              "opacity": {
               "value": 0.35
              },
              "x": {
               "field": "year",
               "timeUnit": "year",
               "title": null,
               "type": "temporal"
              },
              "y": {
               "field": "val4",
               "scale": {
                "domain": [
                 0,
                 0.2
                ]
               },
               "title": null,
               "type": "quantitative"
              }
             },
             "height": 50,
             "mark": {
              "clip": true,
              "interpolate": "monotone",
              "type": "area"
             },
             "transform": [
              {
               "as": "val4",
               "calculate": "(datum.val - 0.6)"
              }
             ],
             "width": 800
            },
            {
             "encoding": {
              "color": {
               "value": "#925500"
              },
              "opacity": {
               "value": 0.35
              },
              "x": {
               "field": "year",
               "timeUnit": "year",
               "title": null,
               "type": "temporal"
              },
              "y": {
               "field": "val5",
               "scale": {
                "domain": [
                 0,
                 0.2
                ]
               },
               "title": null,
               "type": "quantitative"
              }
             },
             "height": 50,
             "mark": {
              "clip": true,
              "interpolate": "monotone",
              "type": "area"
             },
             "transform": [
              {
               "as": "val5",
               "calculate": "(datum.val - 0.8)"
              }
             ],
             "width": 800
            }
           ]
          },
          {
           "data": {
            "name": "data-d863e499529424caca2b59f553a13147"
           },
           "layer": [
            {
             "encoding": {
              "color": {
               "value": "#DD9EDA"
              },
              "opacity": {
               "value": 0.35
              },
              "x": {
               "field": "year",
               "timeUnit": "year",
               "title": null,
               "type": "temporal"
              },
              "y": {
               "field": "negval",
               "scale": {
                "domain": [
                 0,
                 0.2
                ]
               },
               "title": null,
               "type": "quantitative"
              }
             },
             "height": 50,
             "mark": {
              "clip": true,
              "interpolate": "monotone",
              "type": "area"
             },
             "width": 800
            },
            {
             "encoding": {
              "color": {
               "value": "#BD6ED5"
              },
              "opacity": {
               "value": 0.35
              },
              "x": {
               "field": "year",
               "timeUnit": "year",
               "title": null,
               "type": "temporal"
              },
              "y": {
               "field": "val2",
               "scale": {
                "domain": [
                 0,
                 0.2
                ]
               },
               "title": null,
               "type": "quantitative"
              }
             },
             "height": 50,
             "mark": {
              "clip": true,
              "interpolate": "monotone",
              "type": "area"
             },
             "transform": [
              {
               "as": "val2",
               "calculate": "(datum.negval - 0.2)"
              }
             ],
             "width": 800
            },
            {
             "encoding": {
              "color": {
               "value": "#8C3EAE"
              },
              "opacity": {
               "value": 0.35
              },
              "x": {
               "field": "year",
               "timeUnit": "year",
               "title": null,
               "type": "temporal"
              },
              "y": {
               "field": "val3",
               "scale": {
                "domain": [
                 0,
                 0.2
                ]
               },
               "title": null,
               "type": "quantitative"
              }
             },
             "height": 50,
             "mark": {
              "clip": true,
              "interpolate": "monotone",
              "type": "area"
             },
             "transform": [
              {
               "as": "val3",
               "calculate": "(datum.negval - 0.4)"
              }
             ],
             "width": 800
            }
           ]
          }
         ]
        },
        {
         "layer": [
          {
           "data": {
            "name": "data-ac8b6d614097979a86e07648c057407a"
           },
           "layer": [
            {
             "encoding": {
              "color": {
               "value": "#FFFFAF"
              },
              "opacity": {
               "value": 0.35
              },
              "x": {
               "field": "year",
               "timeUnit": "year",
               "title": null,
               "type": "temporal"
              },
              "y": {
               "field": "val",
               "scale": {
                "domain": [
                 0,
                 0.2
                ]
               },
               "title": null,
               "type": "quantitative"
              }
             },
             "height": 50,
             "mark": {
              "clip": true,
              "interpolate": "monotone",
              "type": "area"
             },
             "width": 800
            },
            {
             "encoding": {
              "color": {
               "value": "#FFE37E"
              },
              "opacity": {
               "value": 0.35
              },
              "x": {
               "field": "year",
               "timeUnit": "year",
               "title": null,
               "type": "temporal"
              },
              "y": {
               "field": "val2",
               "scale": {
                "domain": [
                 0,
                 0.2
                ]
               },
               "title": null,
               "type": "quantitative"
              }
             },
             "height": 50,
             "mark": {
              "clip": true,
              "interpolate": "monotone",
              "type": "area"
             },
             "transform": [
              {
               "as": "val2",
               "calculate": "(datum.val - 0.2)"
              }
             ],
             "width": 800
            },
            {
             "encoding": {
              "color": {
               "value": "#FFB14E"
              },
              "opacity": {
               "value": 0.35
              },
              "x": {
               "field": "year",
               "timeUnit": "year",
               "title": null,
               "type": "temporal"
              },
              "y": {
               "field": "val3",
               "scale": {
                "domain": [
                 0,
                 0.2
                ]
               },
               "title": null,
               "type": "quantitative"
              }
             },
             "height": 50,
             "mark": {
              "clip": true,
              "interpolate": "monotone",
              "type": "area"
             },
             "transform": [
              {
               "as": "val3",
               "calculate": "(datum.val - 0.4)"
              }
             ],
             "width": 800
            },
            {
             "encoding": {
              "color": {
               "value": "#C8811C"
              },
              "opacity": {
               "value": 0.35
              },
              "x": {
               "field": "year",
               "timeUnit": "year",
               "title": null,
               "type": "temporal"
              },
              "y": {
               "field": "val4",
               "scale": {
                "domain": [
                 0,
                 0.2
                ]
               },
               "title": null,
               "type": "quantitative"
              }
             },
             "height": 50,
             "mark": {
              "clip": true,
              "interpolate": "monotone",
              "type": "area"
             },
             "transform": [
              {
               "as": "val4",
               "calculate": "(datum.val - 0.6)"
              }
             ],
             "width": 800
            },
            {
             "encoding": {
              "color": {
               "value": "#925500"
              },
              "opacity": {
               "value": 0.35
              },
              "x": {
               "field": "year",
               "timeUnit": "year",
               "title": null,
               "type": "temporal"
              },
              "y": {
               "field": "val5",
               "scale": {
                "domain": [
                 0,
                 0.2
                ]
               },
               "title": null,
               "type": "quantitative"
              }
             },
             "height": 50,
             "mark": {
              "clip": true,
              "interpolate": "monotone",
              "type": "area"
             },
             "transform": [
              {
               "as": "val5",
               "calculate": "(datum.val - 0.8)"
              }
             ],
             "width": 800
            }
           ]
          },
          {
           "data": {
            "name": "data-ac8b6d614097979a86e07648c057407a"
           },
           "layer": [
            {
             "encoding": {
              "color": {
               "value": "#DD9EDA"
              },
              "opacity": {
               "value": 0.35
              },
              "x": {
               "field": "year",
               "timeUnit": "year",
               "title": null,
               "type": "temporal"
              },
              "y": {
               "field": "negval",
               "scale": {
                "domain": [
                 0,
                 0.2
                ]
               },
               "title": null,
               "type": "quantitative"
              }
             },
             "height": 50,
             "mark": {
              "clip": true,
              "interpolate": "monotone",
              "type": "area"
             },
             "width": 800
            },
            {
             "encoding": {
              "color": {
               "value": "#BD6ED5"
              },
              "opacity": {
               "value": 0.35
              },
              "x": {
               "field": "year",
               "timeUnit": "year",
               "title": null,
               "type": "temporal"
              },
              "y": {
               "field": "val2",
               "scale": {
                "domain": [
                 0,
                 0.2
                ]
               },
               "title": null,
               "type": "quantitative"
              }
             },
             "height": 50,
             "mark": {
              "clip": true,
              "interpolate": "monotone",
              "type": "area"
             },
             "transform": [
              {
               "as": "val2",
               "calculate": "(datum.negval - 0.2)"
              }
             ],
             "width": 800
            },
            {
             "encoding": {
              "color": {
               "value": "#8C3EAE"
              },
              "opacity": {
               "value": 0.35
              },
              "x": {
               "field": "year",
               "timeUnit": "year",
               "title": null,
               "type": "temporal"
              },
              "y": {
               "field": "val3",
               "scale": {
                "domain": [
                 0,
                 0.2
                ]
               },
               "title": null,
               "type": "quantitative"
              }
             },
             "height": 50,
             "mark": {
              "clip": true,
              "interpolate": "monotone",
              "type": "area"
             },
             "transform": [
              {
               "as": "val3",
               "calculate": "(datum.negval - 0.4)"
              }
             ],
             "width": 800
            }
           ]
          }
         ]
        },
        {
         "layer": [
          {
           "data": {
            "name": "data-925e9008580c3ef8c4ddba22195c8b45"
           },
           "layer": [
            {
             "encoding": {
              "color": {
               "value": "#FFFFAF"
              },
              "opacity": {
               "value": 0.35
              },
              "x": {
               "field": "year",
               "timeUnit": "year",
               "title": null,
               "type": "temporal"
              },
              "y": {
               "field": "val",
               "scale": {
                "domain": [
                 0,
                 0.2
                ]
               },
               "title": null,
               "type": "quantitative"
              }
             },
             "height": 50,
             "mark": {
              "clip": true,
              "interpolate": "monotone",
              "type": "area"
             },
             "width": 800
            },
            {
             "encoding": {
              "color": {
               "value": "#FFE37E"
              },
              "opacity": {
               "value": 0.35
              },
              "x": {
               "field": "year",
               "timeUnit": "year",
               "title": null,
               "type": "temporal"
              },
              "y": {
               "field": "val2",
               "scale": {
                "domain": [
                 0,
                 0.2
                ]
               },
               "title": null,
               "type": "quantitative"
              }
             },
             "height": 50,
             "mark": {
              "clip": true,
              "interpolate": "monotone",
              "type": "area"
             },
             "transform": [
              {
               "as": "val2",
               "calculate": "(datum.val - 0.2)"
              }
             ],
             "width": 800
            },
            {
             "encoding": {
              "color": {
               "value": "#FFB14E"
              },
              "opacity": {
               "value": 0.35
              },
              "x": {
               "field": "year",
               "timeUnit": "year",
               "title": null,
               "type": "temporal"
              },
              "y": {
               "field": "val3",
               "scale": {
                "domain": [
                 0,
                 0.2
                ]
               },
               "title": null,
               "type": "quantitative"
              }
             },
             "height": 50,
             "mark": {
              "clip": true,
              "interpolate": "monotone",
              "type": "area"
             },
             "transform": [
              {
               "as": "val3",
               "calculate": "(datum.val - 0.4)"
              }
             ],
             "width": 800
            },
            {
             "encoding": {
              "color": {
               "value": "#C8811C"
              },
              "opacity": {
               "value": 0.35
              },
              "x": {
               "field": "year",
               "timeUnit": "year",
               "title": null,
               "type": "temporal"
              },
              "y": {
               "field": "val4",
               "scale": {
                "domain": [
                 0,
                 0.2
                ]
               },
               "title": null,
               "type": "quantitative"
              }
             },
             "height": 50,
             "mark": {
              "clip": true,
              "interpolate": "monotone",
              "type": "area"
             },
             "transform": [
              {
               "as": "val4",
               "calculate": "(datum.val - 0.6)"
              }
             ],
             "width": 800
            },
            {
             "encoding": {
              "color": {
               "value": "#925500"
              },
              "opacity": {
               "value": 0.35
              },
              "x": {
               "field": "year",
               "timeUnit": "year",
               "title": null,
               "type": "temporal"
              },
              "y": {
               "field": "val5",
               "scale": {
                "domain": [
                 0,
                 0.2
                ]
               },
               "title": null,
               "type": "quantitative"
              }
             },
             "height": 50,
             "mark": {
              "clip": true,
              "interpolate": "monotone",
              "type": "area"
             },
             "transform": [
              {
               "as": "val5",
               "calculate": "(datum.val - 0.8)"
              }
             ],
             "width": 800
            }
           ]
          },
          {
           "data": {
            "name": "data-925e9008580c3ef8c4ddba22195c8b45"
           },
           "layer": [
            {
             "encoding": {
              "color": {
               "value": "#DD9EDA"
              },
              "opacity": {
               "value": 0.35
              },
              "x": {
               "field": "year",
               "timeUnit": "year",
               "title": null,
               "type": "temporal"
              },
              "y": {
               "field": "negval",
               "scale": {
                "domain": [
                 0,
                 0.2
                ]
               },
               "title": null,
               "type": "quantitative"
              }
             },
             "height": 50,
             "mark": {
              "clip": true,
              "interpolate": "monotone",
              "type": "area"
             },
             "width": 800
            },
            {
             "encoding": {
              "color": {
               "value": "#BD6ED5"
              },
              "opacity": {
               "value": 0.35
              },
              "x": {
               "field": "year",
               "timeUnit": "year",
               "title": null,
               "type": "temporal"
              },
              "y": {
               "field": "val2",
               "scale": {
                "domain": [
                 0,
                 0.2
                ]
               },
               "title": null,
               "type": "quantitative"
              }
             },
             "height": 50,
             "mark": {
              "clip": true,
              "interpolate": "monotone",
              "type": "area"
             },
             "transform": [
              {
               "as": "val2",
               "calculate": "(datum.negval - 0.2)"
              }
             ],
             "width": 800
            },
            {
             "encoding": {
              "color": {
               "value": "#8C3EAE"
              },
              "opacity": {
               "value": 0.35
              },
              "x": {
               "field": "year",
               "timeUnit": "year",
               "title": null,
               "type": "temporal"
              },
              "y": {
               "field": "val3",
               "scale": {
                "domain": [
                 0,
                 0.2
                ]
               },
               "title": null,
               "type": "quantitative"
              }
             },
             "height": 50,
             "mark": {
              "clip": true,
              "interpolate": "monotone",
              "type": "area"
             },
             "transform": [
              {
               "as": "val3",
               "calculate": "(datum.negval - 0.4)"
              }
             ],
             "width": 800
            }
           ]
          }
         ]
        },
        {
         "layer": [
          {
           "data": {
            "name": "data-f793ec50de97fc364f5825402a42ed60"
           },
           "layer": [
            {
             "encoding": {
              "color": {
               "value": "#FFFFAF"
              },
              "opacity": {
               "value": 0.35
              },
              "x": {
               "field": "year",
               "timeUnit": "year",
               "title": null,
               "type": "temporal"
              },
              "y": {
               "field": "val",
               "scale": {
                "domain": [
                 0,
                 0.2
                ]
               },
               "title": null,
               "type": "quantitative"
              }
             },
             "height": 50,
             "mark": {
              "clip": true,
              "interpolate": "monotone",
              "type": "area"
             },
             "width": 800
            },
            {
             "encoding": {
              "color": {
               "value": "#FFE37E"
              },
              "opacity": {
               "value": 0.35
              },
              "x": {
               "field": "year",
               "timeUnit": "year",
               "title": null,
               "type": "temporal"
              },
              "y": {
               "field": "val2",
               "scale": {
                "domain": [
                 0,
                 0.2
                ]
               },
               "title": null,
               "type": "quantitative"
              }
             },
             "height": 50,
             "mark": {
              "clip": true,
              "interpolate": "monotone",
              "type": "area"
             },
             "transform": [
              {
               "as": "val2",
               "calculate": "(datum.val - 0.2)"
              }
             ],
             "width": 800
            },
            {
             "encoding": {
              "color": {
               "value": "#FFB14E"
              },
              "opacity": {
               "value": 0.35
              },
              "x": {
               "field": "year",
               "timeUnit": "year",
               "title": null,
               "type": "temporal"
              },
              "y": {
               "field": "val3",
               "scale": {
                "domain": [
                 0,
                 0.2
                ]
               },
               "title": null,
               "type": "quantitative"
              }
             },
             "height": 50,
             "mark": {
              "clip": true,
              "interpolate": "monotone",
              "type": "area"
             },
             "transform": [
              {
               "as": "val3",
               "calculate": "(datum.val - 0.4)"
              }
             ],
             "width": 800
            },
            {
             "encoding": {
              "color": {
               "value": "#C8811C"
              },
              "opacity": {
               "value": 0.35
              },
              "x": {
               "field": "year",
               "timeUnit": "year",
               "title": null,
               "type": "temporal"
              },
              "y": {
               "field": "val4",
               "scale": {
                "domain": [
                 0,
                 0.2
                ]
               },
               "title": null,
               "type": "quantitative"
              }
             },
             "height": 50,
             "mark": {
              "clip": true,
              "interpolate": "monotone",
              "type": "area"
             },
             "transform": [
              {
               "as": "val4",
               "calculate": "(datum.val - 0.6)"
              }
             ],
             "width": 800
            },
            {
             "encoding": {
              "color": {
               "value": "#925500"
              },
              "opacity": {
               "value": 0.35
              },
              "x": {
               "field": "year",
               "timeUnit": "year",
               "title": null,
               "type": "temporal"
              },
              "y": {
               "field": "val5",
               "scale": {
                "domain": [
                 0,
                 0.2
                ]
               },
               "title": null,
               "type": "quantitative"
              }
             },
             "height": 50,
             "mark": {
              "clip": true,
              "interpolate": "monotone",
              "type": "area"
             },
             "transform": [
              {
               "as": "val5",
               "calculate": "(datum.val - 0.8)"
              }
             ],
             "width": 800
            }
           ]
          },
          {
           "data": {
            "name": "data-f793ec50de97fc364f5825402a42ed60"
           },
           "layer": [
            {
             "encoding": {
              "color": {
               "value": "#DD9EDA"
              },
              "opacity": {
               "value": 0.35
              },
              "x": {
               "field": "year",
               "timeUnit": "year",
               "title": null,
               "type": "temporal"
              },
              "y": {
               "field": "negval",
               "scale": {
                "domain": [
                 0,
                 0.2
                ]
               },
               "title": null,
               "type": "quantitative"
              }
             },
             "height": 50,
             "mark": {
              "clip": true,
              "interpolate": "monotone",
              "type": "area"
             },
             "width": 800
            },
            {
             "encoding": {
              "color": {
               "value": "#BD6ED5"
              },
              "opacity": {
               "value": 0.35
              },
              "x": {
               "field": "year",
               "timeUnit": "year",
               "title": null,
               "type": "temporal"
              },
              "y": {
               "field": "val2",
               "scale": {
                "domain": [
                 0,
                 0.2
                ]
               },
               "title": null,
               "type": "quantitative"
              }
             },
             "height": 50,
             "mark": {
              "clip": true,
              "interpolate": "monotone",
              "type": "area"
             },
             "transform": [
              {
               "as": "val2",
               "calculate": "(datum.negval - 0.2)"
              }
             ],
             "width": 800
            },
            {
             "encoding": {
              "color": {
               "value": "#8C3EAE"
              },
              "opacity": {
               "value": 0.35
              },
              "x": {
               "field": "year",
               "timeUnit": "year",
               "title": null,
               "type": "temporal"
              },
              "y": {
               "field": "val3",
               "scale": {
                "domain": [
                 0,
                 0.2
                ]
               },
               "title": null,
               "type": "quantitative"
              }
             },
             "height": 50,
             "mark": {
              "clip": true,
              "interpolate": "monotone",
              "type": "area"
             },
             "transform": [
              {
               "as": "val3",
               "calculate": "(datum.negval - 0.4)"
              }
             ],
             "width": 800
            }
           ]
          }
         ]
        },
        {
         "layer": [
          {
           "data": {
            "name": "data-65d9b02bff3c57d00973bf58032f54be"
           },
           "layer": [
            {
             "encoding": {
              "color": {
               "value": "#FFFFAF"
              },
              "opacity": {
               "value": 0.35
              },
              "x": {
               "field": "year",
               "timeUnit": "year",
               "title": null,
               "type": "temporal"
              },
              "y": {
               "field": "val",
               "scale": {
                "domain": [
                 0,
                 0.2
                ]
               },
               "title": null,
               "type": "quantitative"
              }
             },
             "height": 50,
             "mark": {
              "clip": true,
              "interpolate": "monotone",
              "type": "area"
             },
             "width": 800
            },
            {
             "encoding": {
              "color": {
               "value": "#FFE37E"
              },
              "opacity": {
               "value": 0.35
              },
              "x": {
               "field": "year",
               "timeUnit": "year",
               "title": null,
               "type": "temporal"
              },
              "y": {
               "field": "val2",
               "scale": {
                "domain": [
                 0,
                 0.2
                ]
               },
               "title": null,
               "type": "quantitative"
              }
             },
             "height": 50,
             "mark": {
              "clip": true,
              "interpolate": "monotone",
              "type": "area"
             },
             "transform": [
              {
               "as": "val2",
               "calculate": "(datum.val - 0.2)"
              }
             ],
             "width": 800
            },
            {
             "encoding": {
              "color": {
               "value": "#FFB14E"
              },
              "opacity": {
               "value": 0.35
              },
              "x": {
               "field": "year",
               "timeUnit": "year",
               "title": null,
               "type": "temporal"
              },
              "y": {
               "field": "val3",
               "scale": {
                "domain": [
                 0,
                 0.2
                ]
               },
               "title": null,
               "type": "quantitative"
              }
             },
             "height": 50,
             "mark": {
              "clip": true,
              "interpolate": "monotone",
              "type": "area"
             },
             "transform": [
              {
               "as": "val3",
               "calculate": "(datum.val - 0.4)"
              }
             ],
             "width": 800
            },
            {
             "encoding": {
              "color": {
               "value": "#C8811C"
              },
              "opacity": {
               "value": 0.35
              },
              "x": {
               "field": "year",
               "timeUnit": "year",
               "title": null,
               "type": "temporal"
              },
              "y": {
               "field": "val4",
               "scale": {
                "domain": [
                 0,
                 0.2
                ]
               },
               "title": null,
               "type": "quantitative"
              }
             },
             "height": 50,
             "mark": {
              "clip": true,
              "interpolate": "monotone",
              "type": "area"
             },
             "transform": [
              {
               "as": "val4",
               "calculate": "(datum.val - 0.6)"
              }
             ],
             "width": 800
            },
            {
             "encoding": {
              "color": {
               "value": "#925500"
              },
              "opacity": {
               "value": 0.35
              },
              "x": {
               "field": "year",
               "timeUnit": "year",
               "title": null,
               "type": "temporal"
              },
              "y": {
               "field": "val5",
               "scale": {
                "domain": [
                 0,
                 0.2
                ]
               },
               "title": null,
               "type": "quantitative"
              }
             },
             "height": 50,
             "mark": {
              "clip": true,
              "interpolate": "monotone",
              "type": "area"
             },
             "transform": [
              {
               "as": "val5",
               "calculate": "(datum.val - 0.8)"
              }
             ],
             "width": 800
            }
           ]
          },
          {
           "data": {
            "name": "data-65d9b02bff3c57d00973bf58032f54be"
           },
           "layer": [
            {
             "encoding": {
              "color": {
               "value": "#DD9EDA"
              },
              "opacity": {
               "value": 0.35
              },
              "x": {
               "field": "year",
               "timeUnit": "year",
               "title": null,
               "type": "temporal"
              },
              "y": {
               "field": "negval",
               "scale": {
                "domain": [
                 0,
                 0.2
                ]
               },
               "title": null,
               "type": "quantitative"
              }
             },
             "height": 50,
             "mark": {
              "clip": true,
              "interpolate": "monotone",
              "type": "area"
             },
             "width": 800
            },
            {
             "encoding": {
              "color": {
               "value": "#BD6ED5"
              },
              "opacity": {
               "value": 0.35
              },
              "x": {
               "field": "year",
               "timeUnit": "year",
               "title": null,
               "type": "temporal"
              },
              "y": {
               "field": "val2",
               "scale": {
                "domain": [
                 0,
                 0.2
                ]
               },
               "title": null,
               "type": "quantitative"
              }
             },
             "height": 50,
             "mark": {
              "clip": true,
              "interpolate": "monotone",
              "type": "area"
             },
             "transform": [
              {
               "as": "val2",
               "calculate": "(datum.negval - 0.2)"
              }
             ],
             "width": 800
            },
            {
             "encoding": {
              "color": {
               "value": "#8C3EAE"
              },
              "opacity": {
               "value": 0.35
              },
              "x": {
               "field": "year",
               "timeUnit": "year",
               "title": null,
               "type": "temporal"
              },
              "y": {
               "field": "val3",
               "scale": {
                "domain": [
                 0,
                 0.2
                ]
               },
               "title": null,
               "type": "quantitative"
              }
             },
             "height": 50,
             "mark": {
              "clip": true,
              "interpolate": "monotone",
              "type": "area"
             },
             "transform": [
              {
               "as": "val3",
               "calculate": "(datum.negval - 0.4)"
              }
             ],
             "width": 800
            }
           ]
          }
         ]
        },
        {
         "layer": [
          {
           "data": {
            "name": "data-7181734993c9228d8b37dcfa7e60c070"
           },
           "layer": [
            {
             "encoding": {
              "color": {
               "value": "#FFFFAF"
              },
              "opacity": {
               "value": 0.35
              },
              "x": {
               "field": "year",
               "timeUnit": "year",
               "title": null,
               "type": "temporal"
              },
              "y": {
               "field": "val",
               "scale": {
                "domain": [
                 0,
                 0.2
                ]
               },
               "title": null,
               "type": "quantitative"
              }
             },
             "height": 50,
             "mark": {
              "clip": true,
              "interpolate": "monotone",
              "type": "area"
             },
             "width": 800
            },
            {
             "encoding": {
              "color": {
               "value": "#FFE37E"
              },
              "opacity": {
               "value": 0.35
              },
              "x": {
               "field": "year",
               "timeUnit": "year",
               "title": null,
               "type": "temporal"
              },
              "y": {
               "field": "val2",
               "scale": {
                "domain": [
                 0,
                 0.2
                ]
               },
               "title": null,
               "type": "quantitative"
              }
             },
             "height": 50,
             "mark": {
              "clip": true,
              "interpolate": "monotone",
              "type": "area"
             },
             "transform": [
              {
               "as": "val2",
               "calculate": "(datum.val - 0.2)"
              }
             ],
             "width": 800
            },
            {
             "encoding": {
              "color": {
               "value": "#FFB14E"
              },
              "opacity": {
               "value": 0.35
              },
              "x": {
               "field": "year",
               "timeUnit": "year",
               "title": null,
               "type": "temporal"
              },
              "y": {
               "field": "val3",
               "scale": {
                "domain": [
                 0,
                 0.2
                ]
               },
               "title": null,
               "type": "quantitative"
              }
             },
             "height": 50,
             "mark": {
              "clip": true,
              "interpolate": "monotone",
              "type": "area"
             },
             "transform": [
              {
               "as": "val3",
               "calculate": "(datum.val - 0.4)"
              }
             ],
             "width": 800
            },
            {
             "encoding": {
              "color": {
               "value": "#C8811C"
              },
              "opacity": {
               "value": 0.35
              },
              "x": {
               "field": "year",
               "timeUnit": "year",
               "title": null,
               "type": "temporal"
              },
              "y": {
               "field": "val4",
               "scale": {
                "domain": [
                 0,
                 0.2
                ]
               },
               "title": null,
               "type": "quantitative"
              }
             },
             "height": 50,
             "mark": {
              "clip": true,
              "interpolate": "monotone",
              "type": "area"
             },
             "transform": [
              {
               "as": "val4",
               "calculate": "(datum.val - 0.6)"
              }
             ],
             "width": 800
            },
            {
             "encoding": {
              "color": {
               "value": "#925500"
              },
              "opacity": {
               "value": 0.35
              },
              "x": {
               "field": "year",
               "timeUnit": "year",
               "title": null,
               "type": "temporal"
              },
              "y": {
               "field": "val5",
               "scale": {
                "domain": [
                 0,
                 0.2
                ]
               },
               "title": null,
               "type": "quantitative"
              }
             },
             "height": 50,
             "mark": {
              "clip": true,
              "interpolate": "monotone",
              "type": "area"
             },
             "transform": [
              {
               "as": "val5",
               "calculate": "(datum.val - 0.8)"
              }
             ],
             "width": 800
            }
           ]
          },
          {
           "data": {
            "name": "data-7181734993c9228d8b37dcfa7e60c070"
           },
           "layer": [
            {
             "encoding": {
              "color": {
               "value": "#DD9EDA"
              },
              "opacity": {
               "value": 0.35
              },
              "x": {
               "field": "year",
               "timeUnit": "year",
               "title": null,
               "type": "temporal"
              },
              "y": {
               "field": "negval",
               "scale": {
                "domain": [
                 0,
                 0.2
                ]
               },
               "title": null,
               "type": "quantitative"
              }
             },
             "height": 50,
             "mark": {
              "clip": true,
              "interpolate": "monotone",
              "type": "area"
             },
             "width": 800
            },
            {
             "encoding": {
              "color": {
               "value": "#BD6ED5"
              },
              "opacity": {
               "value": 0.35
              },
              "x": {
               "field": "year",
               "timeUnit": "year",
               "title": null,
               "type": "temporal"
              },
              "y": {
               "field": "val2",
               "scale": {
                "domain": [
                 0,
                 0.2
                ]
               },
               "title": null,
               "type": "quantitative"
              }
             },
             "height": 50,
             "mark": {
              "clip": true,
              "interpolate": "monotone",
              "type": "area"
             },
             "transform": [
              {
               "as": "val2",
               "calculate": "(datum.negval - 0.2)"
              }
             ],
             "width": 800
            },
            {
             "encoding": {
              "color": {
               "value": "#8C3EAE"
              },
              "opacity": {
               "value": 0.35
              },
              "x": {
               "field": "year",
               "timeUnit": "year",
               "title": null,
               "type": "temporal"
              },
              "y": {
               "field": "val3",
               "scale": {
                "domain": [
                 0,
                 0.2
                ]
               },
               "title": null,
               "type": "quantitative"
              }
             },
             "height": 50,
             "mark": {
              "clip": true,
              "interpolate": "monotone",
              "type": "area"
             },
             "transform": [
              {
               "as": "val3",
               "calculate": "(datum.negval - 0.4)"
              }
             ],
             "width": 800
            }
           ]
          }
         ]
        }
       ]
      },
      "image/png": "[encoded data removed]",
      "text/plain": [
       "<VegaLite 2 object>\n",
       "\n",
       "If you see this message, it means the renderer has not been properly enabled\n",
       "for the frontend that you are using. For more information, see\n",
       "https://altair-viz.github.io/user_guide/troubleshooting.html\n"
      ]
     },
     "execution_count": 10,
     "metadata": {},
     "output_type": "execute_result"
    }
   ],
   "source": [
    "alt.vconcat(*final).configure_axisY(labels=False)"
   ]
  }
 ],
 "metadata": {
  "kernelspec": {
   "display_name": "Python 3",
   "language": "python",
   "name": "python3"
  },
  "language_info": {
   "codemirror_mode": {
    "name": "ipython",
    "version": 3
   },
   "file_extension": ".py",
   "mimetype": "text/x-python",
   "name": "python",
   "nbconvert_exporter": "python",
   "pygments_lexer": "ipython3",
   "version": "3.6.4"
  }
 },
 "nbformat": 4,
 "nbformat_minor": 2
}
